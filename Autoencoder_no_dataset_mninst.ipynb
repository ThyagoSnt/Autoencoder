{
  "nbformat": 4,
  "nbformat_minor": 0,
  "metadata": {
    "colab": {
      "provenance": [],
      "gpuType": "T4"
    },
    "kernelspec": {
      "name": "python3",
      "display_name": "Python 3"
    },
    "language_info": {
      "name": "python"
    },
    "accelerator": "GPU"
  },
  "cells": [
    {
      "cell_type": "markdown",
      "source": [
        "# Autoencoder"
      ],
      "metadata": {
        "id": "L_OyVrlBrmRl"
      }
    },
    {
      "cell_type": "markdown",
      "source": [
        "## Importando as bibliotecas"
      ],
      "metadata": {
        "id": "33HuVr264UTJ"
      }
    },
    {
      "cell_type": "code",
      "source": [
        "# Importando as bibliotecas necessárias:\n",
        "import torch\n",
        "import torch.nn as nn\n",
        "import torch.optim as optim\n",
        "from torchvision import datasets, transforms\n",
        "import matplotlib.pyplot as plt\n",
        "import torchvision.utils as vutils"
      ],
      "metadata": {
        "id": "3AYquxGp4GA-"
      },
      "execution_count": 1,
      "outputs": []
    },
    {
      "cell_type": "markdown",
      "source": [
        "## Verificando se tem gpu disponível"
      ],
      "metadata": {
        "id": "I1DyEOJ24b7B"
      }
    },
    {
      "cell_type": "code",
      "source": [
        "# Verificando se tem GPU disponível\n",
        "device = torch.device('cuda' if torch.cuda.is_available() else 'cpu')\n",
        "print(f\"Dispositivo utilizado: {device}\")"
      ],
      "metadata": {
        "colab": {
          "base_uri": "https://localhost:8080/"
        },
        "id": "hKs8KKUu4KJE",
        "outputId": "560a68b9-fa3a-438d-9c0d-f488fadc2ff5"
      },
      "execution_count": 2,
      "outputs": [
        {
          "output_type": "stream",
          "name": "stdout",
          "text": [
            "Dispositivo utilizado: cuda\n"
          ]
        }
      ]
    },
    {
      "cell_type": "markdown",
      "source": [
        "## Definindo a arquitetura do modelo"
      ],
      "metadata": {
        "id": "2QQtFq5s45-J"
      }
    },
    {
      "cell_type": "code",
      "source": [
        "# Definindo a arquitetura do autoencoder:\n",
        "class Autoencoder(nn.Module):\n",
        "    def __init__(self, tam_entrada, tam_vetor_latente):\n",
        "        super(Autoencoder, self).__init__()\n",
        "\n",
        "        # Codificador\n",
        "        self.encoder = nn.Sequential(\n",
        "            nn.Linear(tam_entrada, 128),\n",
        "            nn.ReLU(),\n",
        "            nn.Linear(128, tam_vetor_latente),\n",
        "            nn.ReLU()\n",
        "        )\n",
        "\n",
        "        # Decodificador\n",
        "        self.decoder = nn.Sequential(\n",
        "            nn.Linear(tam_vetor_latente, 128),\n",
        "            nn.ReLU(),\n",
        "            nn.Linear(128, tam_entrada),\n",
        "            nn.Tanh()\n",
        "        )\n",
        "\n",
        "    # Definindo a passagem dos dados\n",
        "    def forward(self, entrada):\n",
        "        codificacao = self.encoder(entrada)\n",
        "        decodificacao = self.decoder(codificacao)\n",
        "        return decodificacao"
      ],
      "metadata": {
        "id": "CSmPSb7d4H99"
      },
      "execution_count": 3,
      "outputs": []
    },
    {
      "cell_type": "markdown",
      "source": [
        "## Preparando o dataset"
      ],
      "metadata": {
        "id": "OmZCBJIT4_6G"
      }
    },
    {
      "cell_type": "code",
      "source": [
        "# Definindo o conjunto de transformações aplicadas ao conjunto\n",
        "transform = transforms.Compose([transforms.ToTensor(), transforms.Normalize((0.5,), (0.5,))])\n",
        "\n",
        "# Criando nossos loaders para realizar o treinamento do modelo\n",
        "trainset = datasets.MNIST(root='./data', train=True, download=True, transform=transform)\n",
        "testset = datasets.MNIST(root='./data', train=False, download=True, transform=transform)\n",
        "trainloader = torch.utils.data.DataLoader(trainset, batch_size=64, shuffle=True)\n",
        "testloader = torch.utils.data.DataLoader(testset, batch_size=64, shuffle=False)"
      ],
      "metadata": {
        "colab": {
          "base_uri": "https://localhost:8080/"
        },
        "id": "RhhlmyVz4Nbj",
        "outputId": "5cd43df8-9d03-4672-c611-d56fa123535e"
      },
      "execution_count": 4,
      "outputs": [
        {
          "output_type": "stream",
          "name": "stdout",
          "text": [
            "Downloading http://yann.lecun.com/exdb/mnist/train-images-idx3-ubyte.gz\n",
            "Failed to download (trying next):\n",
            "HTTP Error 403: Forbidden\n",
            "\n",
            "Downloading https://ossci-datasets.s3.amazonaws.com/mnist/train-images-idx3-ubyte.gz\n",
            "Downloading https://ossci-datasets.s3.amazonaws.com/mnist/train-images-idx3-ubyte.gz to ./data/MNIST/raw/train-images-idx3-ubyte.gz\n"
          ]
        },
        {
          "output_type": "stream",
          "name": "stderr",
          "text": [
            "100%|██████████| 9912422/9912422 [00:10<00:00, 927532.69it/s] \n"
          ]
        },
        {
          "output_type": "stream",
          "name": "stdout",
          "text": [
            "Extracting ./data/MNIST/raw/train-images-idx3-ubyte.gz to ./data/MNIST/raw\n",
            "\n",
            "Downloading http://yann.lecun.com/exdb/mnist/train-labels-idx1-ubyte.gz\n",
            "Failed to download (trying next):\n",
            "HTTP Error 403: Forbidden\n",
            "\n",
            "Downloading https://ossci-datasets.s3.amazonaws.com/mnist/train-labels-idx1-ubyte.gz\n",
            "Downloading https://ossci-datasets.s3.amazonaws.com/mnist/train-labels-idx1-ubyte.gz to ./data/MNIST/raw/train-labels-idx1-ubyte.gz\n"
          ]
        },
        {
          "output_type": "stream",
          "name": "stderr",
          "text": [
            "100%|██████████| 28881/28881 [00:00<00:00, 133343.12it/s]\n"
          ]
        },
        {
          "output_type": "stream",
          "name": "stdout",
          "text": [
            "Extracting ./data/MNIST/raw/train-labels-idx1-ubyte.gz to ./data/MNIST/raw\n",
            "\n",
            "Downloading http://yann.lecun.com/exdb/mnist/t10k-images-idx3-ubyte.gz\n",
            "Failed to download (trying next):\n",
            "HTTP Error 403: Forbidden\n",
            "\n",
            "Downloading https://ossci-datasets.s3.amazonaws.com/mnist/t10k-images-idx3-ubyte.gz\n",
            "Downloading https://ossci-datasets.s3.amazonaws.com/mnist/t10k-images-idx3-ubyte.gz to ./data/MNIST/raw/t10k-images-idx3-ubyte.gz\n"
          ]
        },
        {
          "output_type": "stream",
          "name": "stderr",
          "text": [
            "100%|██████████| 1648877/1648877 [00:01<00:00, 1263232.35it/s]\n"
          ]
        },
        {
          "output_type": "stream",
          "name": "stdout",
          "text": [
            "Extracting ./data/MNIST/raw/t10k-images-idx3-ubyte.gz to ./data/MNIST/raw\n",
            "\n",
            "Downloading http://yann.lecun.com/exdb/mnist/t10k-labels-idx1-ubyte.gz\n",
            "Failed to download (trying next):\n",
            "HTTP Error 403: Forbidden\n",
            "\n",
            "Downloading https://ossci-datasets.s3.amazonaws.com/mnist/t10k-labels-idx1-ubyte.gz\n",
            "Downloading https://ossci-datasets.s3.amazonaws.com/mnist/t10k-labels-idx1-ubyte.gz to ./data/MNIST/raw/t10k-labels-idx1-ubyte.gz\n"
          ]
        },
        {
          "output_type": "stream",
          "name": "stderr",
          "text": [
            "100%|██████████| 4542/4542 [00:00<00:00, 4000531.03it/s]"
          ]
        },
        {
          "output_type": "stream",
          "name": "stdout",
          "text": [
            "Extracting ./data/MNIST/raw/t10k-labels-idx1-ubyte.gz to ./data/MNIST/raw\n",
            "\n"
          ]
        },
        {
          "output_type": "stream",
          "name": "stderr",
          "text": [
            "\n"
          ]
        }
      ]
    },
    {
      "cell_type": "markdown",
      "source": [
        "## Definindo o modelo e os parâmetros:"
      ],
      "metadata": {
        "id": "6OZAjlzl-rqR"
      }
    },
    {
      "cell_type": "code",
      "source": [
        "# Inicializando o modelo e definindo\n",
        "tam_vetor_latente = 64\n",
        "tamanho_entrada = 28 * 28\n",
        "autoencoder = Autoencoder(tamanho_entrada, tam_vetor_latente).to(device)\n",
        "criterio = nn.MSELoss().to(device)\n",
        "otimizador = optim.Adam(autoencoder.parameters(), lr=0.001)"
      ],
      "metadata": {
        "id": "c29FOZuD-rUu"
      },
      "execution_count": 5,
      "outputs": []
    },
    {
      "cell_type": "markdown",
      "source": [
        "## Treinando o modelo:"
      ],
      "metadata": {
        "id": "HtJOkQ-s5Co5"
      }
    },
    {
      "cell_type": "code",
      "source": [
        "#  Definindo o número de épocas\n",
        "epocas = 20\n",
        "\n",
        "# Define o modelo no modo de treinamento\n",
        "autoencoder.train()\n",
        "\n",
        "# Realizando o treinamento do\n",
        "for epoca in range(epocas):\n",
        "    for data in trainloader:\n",
        "        # Extraindo as imagens\n",
        "        img, _ = data\n",
        "        # Achatando as imagens\n",
        "        img = img.view(img.size(0), -1).to(device)\n",
        "\n",
        "        # Forward\n",
        "        otimizador.zero_grad()\n",
        "        output = autoencoder(img)\n",
        "\n",
        "        # Cálculo da loss\n",
        "        loss = criterio(output, img)\n",
        "\n",
        "        # Atualização do parâmetros\n",
        "        loss.backward()\n",
        "        otimizador.step()\n",
        "\n",
        "    print(f'Epoca: {epoca+1}/{epocas}, Loss: {loss.item():.4f}')"
      ],
      "metadata": {
        "colab": {
          "base_uri": "https://localhost:8080/"
        },
        "id": "TFFsk7044PsD",
        "outputId": "cbc209ee-f08c-4f6a-d9a7-e8dc8af121cd"
      },
      "execution_count": 6,
      "outputs": [
        {
          "output_type": "stream",
          "name": "stdout",
          "text": [
            "Epoca: 1/20, Loss: 0.0687\n",
            "Epoca: 2/20, Loss: 0.0458\n",
            "Epoca: 3/20, Loss: 0.0381\n",
            "Epoca: 4/20, Loss: 0.0387\n",
            "Epoca: 5/20, Loss: 0.0351\n",
            "Epoca: 6/20, Loss: 0.0303\n",
            "Epoca: 7/20, Loss: 0.0298\n",
            "Epoca: 8/20, Loss: 0.0339\n",
            "Epoca: 9/20, Loss: 0.0291\n",
            "Epoca: 10/20, Loss: 0.0301\n",
            "Epoca: 11/20, Loss: 0.0264\n",
            "Epoca: 12/20, Loss: 0.0295\n",
            "Epoca: 13/20, Loss: 0.0263\n",
            "Epoca: 14/20, Loss: 0.0244\n",
            "Epoca: 15/20, Loss: 0.0329\n",
            "Epoca: 16/20, Loss: 0.0295\n",
            "Epoca: 17/20, Loss: 0.0266\n",
            "Epoca: 18/20, Loss: 0.0281\n",
            "Epoca: 19/20, Loss: 0.0279\n",
            "Epoca: 20/20, Loss: 0.0258\n"
          ]
        }
      ]
    },
    {
      "cell_type": "markdown",
      "source": [
        "## Visualizando uma mostra"
      ],
      "metadata": {
        "id": "ClXMuScJ5FT4"
      }
    },
    {
      "cell_type": "code",
      "source": [
        "# Obter um batch de imagens do conjunto de testes\n",
        "dataiter = iter(testloader)\n",
        "images, labels = next(dataiter)\n",
        "images = images.view(images.size(0), -1).to(device)\n",
        "\n",
        "# Obter saídas do autoencoder\n",
        "output = autoencoder(images)\n",
        "images = images.view(images.size(0), 1, 28, 28).cpu()\n",
        "output = output.view(output.size(0), 1, 28, 28).cpu()\n",
        "\n",
        "# Restringindo os valores do tensor para o intervalo [0, 1] (para o matplotlib poder exibir sem erros)\n",
        "images = torch.clamp(images, 0, 1)\n",
        "output = torch.clamp(output, 0, 1)\n",
        "\n",
        "# Selecionar apenas a primeira linha de exemplos (por exemplo, 8 imagens)\n",
        "num_images = 10\n",
        "images = images[:num_images]\n",
        "output = output[:num_images]\n",
        "\n",
        "# Plotar imagens originais e reconstruídas\n",
        "fig, axes = plt.subplots(2, num_images, figsize=(num_images * 2, 4))\n",
        "\n",
        "# Adicionar rótulo horizontal à esquerda da linha de imagens originais\n",
        "fig.text(0.05, 0.75, 'Original', ha='center', va='center', fontsize=14, rotation=0)\n",
        "\n",
        "# Adicionar rótulo horizontal à esquerda da linha de imagens reconstruídas\n",
        "fig.text(0.05, 0.25, 'Reconstructed', ha='center', va='center', fontsize=14, rotation=0)\n",
        "\n",
        "# Plotar imagens originais\n",
        "for i in range(num_images):\n",
        "    axes[0, i].imshow(images[i].permute(1, 2, 0).detach().numpy(), cmap='gray')\n",
        "    axes[0, i].axis('off')\n",
        "\n",
        "# Plotar imagens reconstruídas\n",
        "for i in range(num_images):\n",
        "    axes[1, i].imshow(output[i].permute(1, 2, 0).detach().numpy(), cmap='gray')\n",
        "    axes[1, i].axis('off')\n",
        "\n",
        "plt.show()"
      ],
      "metadata": {
        "colab": {
          "base_uri": "https://localhost:8080/",
          "height": 154
        },
        "id": "maSG6Erp4Swb",
        "outputId": "c15abfe0-df0b-410e-915f-3874886c1663"
      },
      "execution_count": 7,
      "outputs": [
        {
          "output_type": "display_data",
          "data": {
            "text/plain": [
              "<Figure size 2000x400 with 20 Axes>"
            ],
            "image/png": "[encoded data removed]"
          },
          "metadata": {}
        }
      ]
    },
    {
      "cell_type": "markdown",
      "source": [
        "# Denoising Autoencoder:"
      ],
      "metadata": {
        "id": "zTq1uYsa1cKC"
      }
    },
    {
      "cell_type": "markdown",
      "source": [
        "## Instânciando o modelo e definindo os parâmetros:"
      ],
      "metadata": {
        "id": "gfgAkRK9mw8f"
      }
    },
    {
      "cell_type": "code",
      "source": [
        "# Inicializando o modelo e definindo\n",
        "tam_vetor_latente = 64\n",
        "tamanho_entrada = 28 * 28\n",
        "autoencoder_denoising = Autoencoder(tamanho_entrada, tam_vetor_latente).to(device)\n",
        "criterio = nn.MSELoss().to(device)\n",
        "otimizador = optim.Adam(autoencoder_denoising.parameters(), lr=0.001)"
      ],
      "metadata": {
        "id": "bUwLI9Id1lnO"
      },
      "execution_count": 52,
      "outputs": []
    },
    {
      "cell_type": "markdown",
      "source": [
        "# Função de ruído:"
      ],
      "metadata": {
        "id": "dkNT1etPm2qa"
      }
    },
    {
      "cell_type": "code",
      "source": [
        "# Função para adicionar ruído às imagens\n",
        "def adicionar_ruido(imagens, intensidade=0.5):\n",
        "    ruido = torch.randn_like(imagens) * intensidade\n",
        "    return torch.clamp(imagens + ruido, 0, 1)"
      ],
      "metadata": {
        "id": "SSI8WMIs1IdC"
      },
      "execution_count": 50,
      "outputs": []
    },
    {
      "cell_type": "markdown",
      "source": [
        "## Treinamento:"
      ],
      "metadata": {
        "id": "dcXM-dYXm6W_"
      }
    },
    {
      "cell_type": "code",
      "source": [
        "epocas = 20\n",
        "# Treinando o modelo\n",
        "autoencoder_denoising.train()\n",
        "for epoca in range(epocas):\n",
        "    for data in trainloader:\n",
        "        # Extraindo as imagens\n",
        "        img, _ = data\n",
        "        # Achatando as imagens\n",
        "        img = img.view(img.size(0), -1).to(device)\n",
        "\n",
        "        # Adicionando ruído\n",
        "        img_ruidoso = adicionar_ruido(img)\n",
        "\n",
        "        # Forward\n",
        "        otimizador.zero_grad()\n",
        "        output = autoencoder_denoising(img_ruidoso)\n",
        "\n",
        "        # Cálculo da loss\n",
        "        loss = criterio(output, img)\n",
        "\n",
        "        # Atualização dos parâmetros\n",
        "        loss.backward()\n",
        "        otimizador.step()\n",
        "\n",
        "    print(f'Epoca: {epoca+1}/{epocas}, Loss: {loss.item():.4f}')"
      ],
      "metadata": {
        "colab": {
          "base_uri": "https://localhost:8080/"
        },
        "id": "ybTZw5xu1V7Z",
        "outputId": "94276d4c-24c3-4d81-dd60-75242f11b9ff"
      },
      "execution_count": 53,
      "outputs": [
        {
          "output_type": "stream",
          "name": "stdout",
          "text": [
            "Epoca: 1/20, Loss: 0.0902\n",
            "Epoca: 2/20, Loss: 0.0634\n",
            "Epoca: 3/20, Loss: 0.0584\n",
            "Epoca: 4/20, Loss: 0.0583\n",
            "Epoca: 5/20, Loss: 0.0444\n",
            "Epoca: 6/20, Loss: 0.0436\n",
            "Epoca: 7/20, Loss: 0.0405\n",
            "Epoca: 8/20, Loss: 0.0431\n",
            "Epoca: 9/20, Loss: 0.0418\n",
            "Epoca: 10/20, Loss: 0.0363\n",
            "Epoca: 11/20, Loss: 0.0397\n",
            "Epoca: 12/20, Loss: 0.0438\n",
            "Epoca: 13/20, Loss: 0.0399\n",
            "Epoca: 14/20, Loss: 0.0322\n",
            "Epoca: 15/20, Loss: 0.0359\n",
            "Epoca: 16/20, Loss: 0.0387\n",
            "Epoca: 17/20, Loss: 0.0309\n",
            "Epoca: 18/20, Loss: 0.0330\n",
            "Epoca: 19/20, Loss: 0.0323\n",
            "Epoca: 20/20, Loss: 0.0350\n"
          ]
        }
      ]
    },
    {
      "cell_type": "markdown",
      "source": [
        "## Visualizando amostras"
      ],
      "metadata": {
        "id": "bZI0ng3XrfYU"
      }
    },
    {
      "cell_type": "code",
      "source": [
        "# Visualizando uma mostra\n",
        "dataiter = iter(testloader)\n",
        "images, labels = next(dataiter)\n",
        "images = images.view(images.size(0), -1).to(device)\n",
        "images_ruidosas = adicionar_ruido(images)\n",
        "\n",
        "# Obter saídas do autoencoder_denoising\n",
        "output = autoencoder_denoising(images_ruidosas)\n",
        "images = images.view(images.size(0), 1, 28, 28).cpu()\n",
        "output = output.view(output.size(0), 1, 28, 28).cpu()\n",
        "images_ruidosas = images_ruidosas.view(images_ruidosas.size(0), 1, 28, 28).cpu()\n",
        "\n",
        "# Restringindo os valores do tensor para o intervalo [0, 1] (para o matplotlib poder exibir sem erros)\n",
        "images = torch.clamp(images, 0, 1)\n",
        "output = torch.clamp(output, 0, 1)\n",
        "images_ruidosas = torch.clamp(images_ruidosas, 0, 1)\n",
        "\n",
        "# Selecionar apenas a primeira linha de exemplos (por exemplo, 8 imagens)\n",
        "num_images = 10\n",
        "images = images[:num_images]\n",
        "output = output[:num_images]\n",
        "images_ruidosas = images_ruidosas[:num_images]\n",
        "\n",
        "# Plotar imagens originais, ruidosas e reconstruídas\n",
        "fig, axes = plt.subplots(3, num_images, figsize=(num_images * 2, 6))\n",
        "\n",
        "# Adicionar rótulo horizontal à esquerda da linha de imagens originais\n",
        "fig.text(0.05, 0.85, 'Original', ha='center', va='center', fontsize=14, rotation=0)\n",
        "\n",
        "# Adicionar rótulo horizontal à esquerda da linha de imagens ruidosas\n",
        "fig.text(0.05, 0.55, 'Noisy', ha='center', va='center', fontsize=14, rotation=0)\n",
        "\n",
        "# Adicionar rótulo horizontal à esquerda da linha de imagens reconstruídas\n",
        "fig.text(0.05, 0.25, 'Reconstructed', ha='center', va='center', fontsize=14, rotation=0)\n",
        "\n",
        "# Plotar imagens originais\n",
        "for i in range(num_images):\n",
        "    axes[0, i].imshow(images[i].permute(1, 2, 0).detach().numpy(), cmap='gray')\n",
        "    axes[0, i].axis('off')\n",
        "\n",
        "# Plotar imagens ruidosas\n",
        "for i in range(num_images):\n",
        "    axes[1, i].imshow(images_ruidosas[i].permute(1, 2, 0).detach().numpy(), cmap='gray')\n",
        "    axes[1, i].axis('off')\n",
        "\n",
        "# Plotar imagens reconstruídas\n",
        "for i in range(num_images):\n",
        "    axes[2, i].imshow(output[i].permute(1, 2, 0).detach().numpy(), cmap='gray')\n",
        "    axes[2, i].axis('off')\n",
        "\n",
        "plt.show()"
      ],
      "metadata": {
        "colab": {
          "base_uri": "https://localhost:8080/",
          "height": 222
        },
        "id": "6j7RIgup2SN7",
        "outputId": "6fb1e184-0342-4115-fd5b-b85d00fd2a62"
      },
      "execution_count": 54,
      "outputs": [
        {
          "output_type": "display_data",
          "data": {
            "text/plain": [
              "<Figure size 2000x600 with 30 Axes>"
            ],
            "image/png": "[encoded data removed]"
          },
          "metadata": {}
        }
      ]
    }
  ]
}